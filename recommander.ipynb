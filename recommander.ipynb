{
 "cells": [
  {
   "cell_type": "markdown",
   "id": "1ac5a8d9",
   "metadata": {},
   "source": [
    "## Initialize packges"
   ]
  },
  {
   "cell_type": "code",
   "execution_count": 14,
   "id": "ed15a82a",
   "metadata": {},
   "outputs": [
    {
     "name": "stderr",
     "output_type": "stream",
     "text": [
      "[nltk_data] Downloading package punkt_tab to\n",
      "[nltk_data]     C:\\Users\\Hp\\AppData\\Roaming\\nltk_data...\n",
      "[nltk_data]   Package punkt_tab is already up-to-date!\n",
      "[nltk_data] Downloading package stopwords to\n",
      "[nltk_data]     C:\\Users\\Hp\\AppData\\Roaming\\nltk_data...\n",
      "[nltk_data]   Package stopwords is already up-to-date!\n"
     ]
    },
    {
     "data": {
      "text/plain": [
       "True"
      ]
     },
     "execution_count": 14,
     "metadata": {},
     "output_type": "execute_result"
    }
   ],
   "source": [
    "import requests\n",
    "import json\n",
    "import xml.etree.ElementTree as ET\n",
    "import json, os\n",
    "import re\n",
    "from typing import Any, List, Type\n",
    "import html\n",
    "import pandas as pd\n",
    "# !pip install pandas\n",
    "\n",
    "import numpy as np\n",
    "import matplotlib.pyplot as plt\n",
    "from sklearn.feature_extraction.text import TfidfVectorizer\n",
    "from sklearn.cluster import DBSCAN\n",
    "from sklearn.decomposition import PCA\n",
    "\n",
    "import nltk\n",
    "nltk.download('punkt_tab')\n",
    "\n",
    "from nltk.corpus import stopwords\n",
    "nltk.download('stopwords')\n"
   ]
  },
  {
   "cell_type": "code",
   "execution_count": 4,
   "id": "aa28d54f",
   "metadata": {},
   "outputs": [
    {
     "data": {
      "text/html": [
       "<div>\n",
       "<style scoped>\n",
       "    .dataframe tbody tr th:only-of-type {\n",
       "        vertical-align: middle;\n",
       "    }\n",
       "\n",
       "    .dataframe tbody tr th {\n",
       "        vertical-align: top;\n",
       "    }\n",
       "\n",
       "    .dataframe thead th {\n",
       "        text-align: right;\n",
       "    }\n",
       "</style>\n",
       "<table border=\"1\" class=\"dataframe\">\n",
       "  <thead>\n",
       "    <tr style=\"text-align: right;\">\n",
       "      <th></th>\n",
       "      <th>id</th>\n",
       "      <th>title</th>\n",
       "      <th>link</th>\n",
       "      <th>image_link</th>\n",
       "      <th>availability</th>\n",
       "      <th>price</th>\n",
       "      <th>description</th>\n",
       "      <th>shipping_weight</th>\n",
       "      <th>measurement_sold_in_size</th>\n",
       "      <th>product_type</th>\n",
       "      <th>measurement_sold_in_unit</th>\n",
       "      <th>childrens</th>\n",
       "      <th>price_range</th>\n",
       "      <th>parent</th>\n",
       "      <th>color</th>\n",
       "      <th>size</th>\n",
       "      <th>width</th>\n",
       "      <th>discount</th>\n",
       "      <th>style</th>\n",
       "    </tr>\n",
       "  </thead>\n",
       "  <tbody>\n",
       "    <tr>\n",
       "      <th>0</th>\n",
       "      <td>DGSPE-1707</td>\n",
       "      <td>DuraGrip® Brand Specialty Fasteners</td>\n",
       "      <td>https://www.hookandloop.com/catalog/product/vi...</td>\n",
       "      <td>https://www.hookandloop.com/media/catalog/prod...</td>\n",
       "      <td>In Stock</td>\n",
       "      <td>USD162.50</td>\n",
       "      <td>, Part Number:DGSPE-1707, Brand:DuraGrip, Sold...</td>\n",
       "      <td>575.00lbs</td>\n",
       "      <td>25.0</td>\n",
       "      <td>simple</td>\n",
       "      <td>25 Yard Rolls (900 Inches)</td>\n",
       "      <td>None</td>\n",
       "      <td>None</td>\n",
       "      <td>None</td>\n",
       "      <td>None</td>\n",
       "      <td>None</td>\n",
       "      <td>None</td>\n",
       "      <td>None</td>\n",
       "      <td>None</td>\n",
       "    </tr>\n",
       "    <tr>\n",
       "      <th>1</th>\n",
       "      <td>Fasteners-DG-Sew-On</td>\n",
       "      <td>DuraGrip® Brand Sew On Hook and Loop Fasteners</td>\n",
       "      <td>https://www.hookandloop.com/catalog/product/vi...</td>\n",
       "      <td>https://www.hookandloop.com/media/catalog/prod...</td>\n",
       "      <td>In Stock</td>\n",
       "      <td>USD0.00</td>\n",
       "      <td>&lt;p dir=\"ltr\"&gt;DuraGrip Brand sew on hook and lo...</td>\n",
       "      <td>None</td>\n",
       "      <td>25.0</td>\n",
       "      <td>configurable</td>\n",
       "      <td>Sold On 25 Yard Rolls (900 Inches)</td>\n",
       "      <td>DG38WHHS,DG38BLLS,DG38WHLS,DG12BLHS,DG12WHHS,D...</td>\n",
       "      <td>USD9.75 - USD92.00</td>\n",
       "      <td>None</td>\n",
       "      <td>None</td>\n",
       "      <td>None</td>\n",
       "      <td>None</td>\n",
       "      <td>None</td>\n",
       "      <td>None</td>\n",
       "    </tr>\n",
       "    <tr>\n",
       "      <th>2</th>\n",
       "      <td>VSEWON-181214</td>\n",
       "      <td>VELCRO® Brand Sew On Hook and Loop Fasteners</td>\n",
       "      <td>https://www.hookandloop.com/catalog/product/vi...</td>\n",
       "      <td>https://www.hookandloop.com/media/catalog/prod...</td>\n",
       "      <td>In Stock</td>\n",
       "      <td>USD0.00</td>\n",
       "      <td>&lt;p dir=\"ltr\"&gt;&lt;span&gt;VELCRO&lt;/span&gt;&lt;span&gt;® &lt;/span...</td>\n",
       "      <td>None</td>\n",
       "      <td>25.0</td>\n",
       "      <td>configurable</td>\n",
       "      <td>Sold On 25 Yard Rolls (900 Inches)</td>\n",
       "      <td>W199927,190592,190660,190749,190181,190367,190...</td>\n",
       "      <td>USD13.25 - USD411.25</td>\n",
       "      <td>None</td>\n",
       "      <td>None</td>\n",
       "      <td>None</td>\n",
       "      <td>None</td>\n",
       "      <td>None</td>\n",
       "      <td>None</td>\n",
       "    </tr>\n",
       "    <tr>\n",
       "      <th>3</th>\n",
       "      <td>VVC-192342</td>\n",
       "      <td>VELCRO® Brand VELCOIN® Hook and Loop Fasteners</td>\n",
       "      <td>https://www.hookandloop.com/catalog/product/vi...</td>\n",
       "      <td>https://www.hookandloop.com/media/catalog/prod...</td>\n",
       "      <td>In Stock</td>\n",
       "      <td>USD0.00</td>\n",
       "      <td>&lt;p dir=\"ltr\"&gt;&lt;span&gt;Also referred to as coins, ...</td>\n",
       "      <td>None</td>\n",
       "      <td>1.0</td>\n",
       "      <td>configurable</td>\n",
       "      <td>Sold On 25 Yard Rolls (900 Inches)</td>\n",
       "      <td>192253,194122,192245,192268,192272,192289,1922...</td>\n",
       "      <td>USD45.94 - USD117.50</td>\n",
       "      <td>None</td>\n",
       "      <td>None</td>\n",
       "      <td>None</td>\n",
       "      <td>None</td>\n",
       "      <td>None</td>\n",
       "      <td>None</td>\n",
       "    </tr>\n",
       "    <tr>\n",
       "      <th>4</th>\n",
       "      <td>DC-DGC78WHL</td>\n",
       "      <td>DuraGrip® Brand Hook and Loop Coins</td>\n",
       "      <td>https://www.hookandloop.com/catalog/product/vi...</td>\n",
       "      <td>https://www.hookandloop.com/media/catalog/prod...</td>\n",
       "      <td>In Stock</td>\n",
       "      <td>USD0.00</td>\n",
       "      <td>&lt;p dir=\"ltr\"&gt;&lt;span&gt;Also referred to as hook an...</td>\n",
       "      <td>None</td>\n",
       "      <td>1.0</td>\n",
       "      <td>configurable</td>\n",
       "      <td>Sold On 25 Yard Rolls (900 Inches)</td>\n",
       "      <td>DGC38BLH,DGC38BLL,DGC12WHL,DGC12BLL,DGC12WHH,D...</td>\n",
       "      <td>USD27.85 - USD63.00</td>\n",
       "      <td>None</td>\n",
       "      <td>None</td>\n",
       "      <td>None</td>\n",
       "      <td>None</td>\n",
       "      <td>None</td>\n",
       "      <td>None</td>\n",
       "    </tr>\n",
       "  </tbody>\n",
       "</table>\n",
       "</div>"
      ],
      "text/plain": [
       "                    id                                           title  \\\n",
       "0           DGSPE-1707             DuraGrip® Brand Specialty Fasteners   \n",
       "1  Fasteners-DG-Sew-On  DuraGrip® Brand Sew On Hook and Loop Fasteners   \n",
       "2        VSEWON-181214    VELCRO® Brand Sew On Hook and Loop Fasteners   \n",
       "3           VVC-192342  VELCRO® Brand VELCOIN® Hook and Loop Fasteners   \n",
       "4          DC-DGC78WHL             DuraGrip® Brand Hook and Loop Coins   \n",
       "\n",
       "                                                link  \\\n",
       "0  https://www.hookandloop.com/catalog/product/vi...   \n",
       "1  https://www.hookandloop.com/catalog/product/vi...   \n",
       "2  https://www.hookandloop.com/catalog/product/vi...   \n",
       "3  https://www.hookandloop.com/catalog/product/vi...   \n",
       "4  https://www.hookandloop.com/catalog/product/vi...   \n",
       "\n",
       "                                          image_link availability      price  \\\n",
       "0  https://www.hookandloop.com/media/catalog/prod...     In Stock  USD162.50   \n",
       "1  https://www.hookandloop.com/media/catalog/prod...     In Stock    USD0.00   \n",
       "2  https://www.hookandloop.com/media/catalog/prod...     In Stock    USD0.00   \n",
       "3  https://www.hookandloop.com/media/catalog/prod...     In Stock    USD0.00   \n",
       "4  https://www.hookandloop.com/media/catalog/prod...     In Stock    USD0.00   \n",
       "\n",
       "                                         description shipping_weight  \\\n",
       "0  , Part Number:DGSPE-1707, Brand:DuraGrip, Sold...       575.00lbs   \n",
       "1  <p dir=\"ltr\">DuraGrip Brand sew on hook and lo...            None   \n",
       "2  <p dir=\"ltr\"><span>VELCRO</span><span>® </span...            None   \n",
       "3  <p dir=\"ltr\"><span>Also referred to as coins, ...            None   \n",
       "4  <p dir=\"ltr\"><span>Also referred to as hook an...            None   \n",
       "\n",
       "   measurement_sold_in_size  product_type            measurement_sold_in_unit  \\\n",
       "0                      25.0        simple          25 Yard Rolls (900 Inches)   \n",
       "1                      25.0  configurable  Sold On 25 Yard Rolls (900 Inches)   \n",
       "2                      25.0  configurable  Sold On 25 Yard Rolls (900 Inches)   \n",
       "3                       1.0  configurable  Sold On 25 Yard Rolls (900 Inches)   \n",
       "4                       1.0  configurable  Sold On 25 Yard Rolls (900 Inches)   \n",
       "\n",
       "                                           childrens           price_range  \\\n",
       "0                                               None                  None   \n",
       "1  DG38WHHS,DG38BLLS,DG38WHLS,DG12BLHS,DG12WHHS,D...    USD9.75 - USD92.00   \n",
       "2  W199927,190592,190660,190749,190181,190367,190...  USD13.25 - USD411.25   \n",
       "3  192253,194122,192245,192268,192272,192289,1922...  USD45.94 - USD117.50   \n",
       "4  DGC38BLH,DGC38BLL,DGC12WHL,DGC12BLL,DGC12WHH,D...   USD27.85 - USD63.00   \n",
       "\n",
       "  parent color  size width discount style  \n",
       "0   None  None  None  None     None  None  \n",
       "1   None  None  None  None     None  None  \n",
       "2   None  None  None  None     None  None  \n",
       "3   None  None  None  None     None  None  \n",
       "4   None  None  None  None     None  None  "
      ]
     },
     "execution_count": 4,
     "metadata": {},
     "output_type": "execute_result"
    }
   ],
   "source": [
    "# %pip install lxml\n",
    "df = pd.read_xml('https://hookandloop.com/feeds/elx_product_feed.xml')\n",
    "df.head()\n"
   ]
  },
  {
   "cell_type": "code",
   "execution_count": null,
   "id": "f0ffdd72",
   "metadata": {},
   "outputs": [],
   "source": [
    "df.describe()\n"
   ]
  },
  {
   "cell_type": "code",
   "execution_count": 5,
   "id": "f54838e8",
   "metadata": {},
   "outputs": [],
   "source": [
    "simple_df = df[df['product_type'] == 'simple']\n",
    "configurable_df = df[df['product_type'] == 'configurable']\n"
   ]
  },
  {
   "cell_type": "code",
   "execution_count": null,
   "id": "af56bb49",
   "metadata": {},
   "outputs": [],
   "source": [
    "simple_df.head()\n"
   ]
  },
  {
   "cell_type": "code",
   "execution_count": null,
   "id": "c9ca8a0a",
   "metadata": {},
   "outputs": [],
   "source": [
    "print(simple_df.isnull().sum())\n"
   ]
  },
  {
   "cell_type": "code",
   "execution_count": 6,
   "id": "4fd12f83",
   "metadata": {
    "vscode": {
     "languageId": "powershell"
    }
   },
   "outputs": [
    {
     "data": {
      "text/plain": [
       "0"
      ]
     },
     "execution_count": 6,
     "metadata": {},
     "output_type": "execute_result"
    }
   ],
   "source": [
    "len(simple_df[simple_df['price_range'].notnull()])\n"
   ]
  },
  {
   "cell_type": "code",
   "execution_count": null,
   "id": "6ea2f2c8",
   "metadata": {
    "vscode": {
     "languageId": "powershell"
    }
   },
   "outputs": [],
   "source": [
    "print(simple_df.notnull().sum())\n"
   ]
  },
  {
   "cell_type": "code",
   "execution_count": 7,
   "id": "6cc0dfb8",
   "metadata": {},
   "outputs": [
    {
     "name": "stdout",
     "output_type": "stream",
     "text": [
      "id                           0\n",
      "title                        0\n",
      "link                         0\n",
      "image_link                   0\n",
      "availability                 0\n",
      "price                        0\n",
      "description                  0\n",
      "shipping_weight             60\n",
      "measurement_sold_in_size     0\n",
      "product_type                 0\n",
      "measurement_sold_in_unit     0\n",
      "childrens                    0\n",
      "price_range                  0\n",
      "parent                      62\n",
      "color                       62\n",
      "size                        62\n",
      "width                       62\n",
      "discount                    62\n",
      "style                       62\n",
      "dtype: int64\n"
     ]
    }
   ],
   "source": [
    "print(configurable_df.isnull().sum())\n"
   ]
  },
  {
   "cell_type": "code",
   "execution_count": null,
   "id": "c692fcee",
   "metadata": {},
   "outputs": [],
   "source": [
    "simple_df.head()\n"
   ]
  },
  {
   "cell_type": "code",
   "execution_count": null,
   "id": "d23f736d",
   "metadata": {},
   "outputs": [],
   "source": [
    "configurable_df.head(2)[\"description\"]\n"
   ]
  },
  {
   "cell_type": "code",
   "execution_count": 8,
   "id": "7646c232",
   "metadata": {},
   "outputs": [],
   "source": [
    "new_df = pd.DataFrame({'merged_text': simple_df['title'] + ' ' + simple_df['description']})\n"
   ]
  },
  {
   "cell_type": "code",
   "execution_count": null,
   "id": "902ac89f",
   "metadata": {},
   "outputs": [],
   "source": [
    "new_df.head()\n"
   ]
  },
  {
   "cell_type": "code",
   "execution_count": 9,
   "id": "0ce5432c",
   "metadata": {},
   "outputs": [
    {
     "data": {
      "text/html": [
       "<div>\n",
       "<style scoped>\n",
       "    .dataframe tbody tr th:only-of-type {\n",
       "        vertical-align: middle;\n",
       "    }\n",
       "\n",
       "    .dataframe tbody tr th {\n",
       "        vertical-align: top;\n",
       "    }\n",
       "\n",
       "    .dataframe thead th {\n",
       "        text-align: right;\n",
       "    }\n",
       "</style>\n",
       "<table border=\"1\" class=\"dataframe\">\n",
       "  <thead>\n",
       "    <tr style=\"text-align: right;\">\n",
       "      <th></th>\n",
       "      <th>tokenized_text</th>\n",
       "    </tr>\n",
       "  </thead>\n",
       "  <tbody>\n",
       "    <tr>\n",
       "      <th>0</th>\n",
       "      <td>[DuraGrip®, Brand, Specialty, Fasteners, ,, Pa...</td>\n",
       "    </tr>\n",
       "    <tr>\n",
       "      <th>47</th>\n",
       "      <td>[DuraGrip®, Brand, Hook, and, Loop, Fasteners,...</td>\n",
       "    </tr>\n",
       "    <tr>\n",
       "      <th>48</th>\n",
       "      <td>[VELCRO®, Brand, Hook, and, Loop, Fasteners, ,...</td>\n",
       "    </tr>\n",
       "    <tr>\n",
       "      <th>60</th>\n",
       "      <td>[VELCRO®, Brand, Specialty, Fasteners, ,, Part...</td>\n",
       "    </tr>\n",
       "    <tr>\n",
       "      <th>64</th>\n",
       "      <td>[Social, Distancing, Strap-Beige, &lt;, p, &gt;, Loo...</td>\n",
       "    </tr>\n",
       "  </tbody>\n",
       "</table>\n",
       "</div>"
      ],
      "text/plain": [
       "                                       tokenized_text\n",
       "0   [DuraGrip®, Brand, Specialty, Fasteners, ,, Pa...\n",
       "47  [DuraGrip®, Brand, Hook, and, Loop, Fasteners,...\n",
       "48  [VELCRO®, Brand, Hook, and, Loop, Fasteners, ,...\n",
       "60  [VELCRO®, Brand, Specialty, Fasteners, ,, Part...\n",
       "64  [Social, Distancing, Strap-Beige, <, p, >, Loo..."
      ]
     },
     "execution_count": 9,
     "metadata": {},
     "output_type": "execute_result"
    }
   ],
   "source": [
    "# Tokenize function\n",
    "def tokenize_text(text):\n",
    "    return nltk.word_tokenize(text)\n",
    "\n",
    "# Apply tokenization to the 'merged_text' column\n",
    "new_df['tokenized_text'] = new_df['merged_text'].apply(tokenize_text)\n",
    "\n",
    "# Create a new dataframe with the tokenized text\n",
    "tokenized_df = pd.DataFrame({'tokenized_text': new_df['tokenized_text']})\n",
    "\n",
    "# Display the tokenized dataframe\n",
    "tokenized_df.head()\n"
   ]
  },
  {
   "cell_type": "code",
   "execution_count": null,
   "id": "97cc934e",
   "metadata": {},
   "outputs": [],
   "source": [
    "tokenized_df['tokenized_text'][0]\n"
   ]
  },
  {
   "cell_type": "code",
   "execution_count": 10,
   "id": "b63d229a",
   "metadata": {},
   "outputs": [],
   "source": [
    "import string\n",
    "from nltk.corpus import stopwords\n",
    "\n",
    "# Remove punctuation\n",
    "tokenized_df['tokenized_text'] = tokenized_df['tokenized_text'].apply(lambda x: [word for word in x if word not in string.punctuation])\n",
    "\n",
    "# Remove numerical values\n",
    "tokenized_df['tokenized_text'] = tokenized_df['tokenized_text'].apply(lambda x: [word for word in x if not word.isdigit()])\n",
    "\n",
    "# Remove stop words\n",
    "stop_words = set(stopwords.words('english'))\n",
    "tokenized_df['tokenized_text'] = tokenized_df['tokenized_text'].apply(lambda x: [word for word in x if word.lower() not in stop_words])\n"
   ]
  },
  {
   "cell_type": "code",
   "execution_count": 25,
   "id": "f6fdd482",
   "metadata": {},
   "outputs": [
    {
     "data": {
      "text/plain": [
       "0     [DuraGrip®, Brand, Specialty, Fasteners, Part,...\n",
       "47    [DuraGrip®, Brand, Hook, Loop, Fasteners, Part...\n",
       "48    [VELCRO®, Brand, Hook, Loop, Fasteners, Part, ...\n",
       "60    [VELCRO®, Brand, Specialty, Fasteners, Part, N...\n",
       "64    [Social, Distancing, Strap-Beige, p, Looking, ...\n",
       "Name: tokenized_text, dtype: object"
      ]
     },
     "execution_count": 25,
     "metadata": {},
     "output_type": "execute_result"
    }
   ],
   "source": [
    "tokenized_df['tokenized_text'].head()\n"
   ]
  },
  {
   "cell_type": "code",
   "execution_count": 26,
   "id": "6ebbffc9",
   "metadata": {},
   "outputs": [
    {
     "data": {
      "text/plain": [
       "tokenized_text    0\n",
       "dtype: int64"
      ]
     },
     "execution_count": 26,
     "metadata": {},
     "output_type": "execute_result"
    }
   ],
   "source": [
    "tokenized_df.isnull().sum()\n"
   ]
  },
  {
   "cell_type": "code",
   "execution_count": 27,
   "id": "b78e9eb1",
   "metadata": {},
   "outputs": [
    {
     "data": {
      "text/plain": [
       "6010"
      ]
     },
     "execution_count": 27,
     "metadata": {},
     "output_type": "execute_result"
    }
   ],
   "source": [
    "len(tokenized_df)\n"
   ]
  },
  {
   "cell_type": "code",
   "execution_count": 11,
   "id": "c1a2025c",
   "metadata": {},
   "outputs": [
    {
     "name": "stdout",
     "output_type": "stream",
     "text": [
      "['000' '0058' '0075' '0100' '0150' '0200' '028' '035' '10' '100']\n",
      "(6010, 7087)\n"
     ]
    }
   ],
   "source": [
    "from sklearn.feature_extraction.text import TfidfVectorizer\n",
    "\n",
    "tokenized_df.columns\n",
    "# Convert the tokenized text into a list of strings\n",
    "tokenized_text_strings = [' '.join(tokens) for tokens in tokenized_df['tokenized_text']]\n",
    "\n",
    "# Create an instance of TfidfVectorizer\n",
    "vectorizer = TfidfVectorizer()\n",
    "\n",
    "# Fit and transform the tokenized text\n",
    "tfidf_matrix = vectorizer.fit_transform(tokenized_text_strings)\n",
    "\n",
    "# Get the feature names (tokens)\n",
    "feature_names = vectorizer.get_feature_names_out()\n",
    "\n",
    "# Print the first 10 feature names\n",
    "print(feature_names[:10])\n",
    "\n",
    "# Print the shape of the TF-IDF matrix\n",
    "print(tfidf_matrix.shape)\n"
   ]
  },
  {
   "cell_type": "code",
   "execution_count": 36,
   "id": "5803c715",
   "metadata": {},
   "outputs": [
    {
     "data": {
      "image/png": "[encoded data removed]",
      "text/plain": [
       "<Figure size 640x480 with 1 Axes>"
      ]
     },
     "metadata": {},
     "output_type": "display_data"
    }
   ],
   "source": [
    "from sklearn.cluster import KMeans\n",
    "\n",
    "# Set the number of clusters\n",
    "num_clusters = 4\n",
    "\n",
    "# Create an instance of KMeans clustering algorithm\n",
    "kmeans = KMeans(n_clusters=num_clusters, random_state=42)\n",
    "\n",
    "# Fit the tfidf_matrix to the KMeans algorithm\n",
    "kmeans.fit(tfidf_matrix)\n",
    "\n",
    "# Get the cluster labels for each data point\n",
    "cluster_labels = kmeans.labels_\n",
    "\n",
    "# Plot the clusters\n",
    "plt.scatter(reduced_tfidf_matrix[:, 0], reduced_tfidf_matrix[:, 1], c=cluster_labels, cmap='viridis')\n",
    "plt.title('KMeans Clustering of TF-IDF Matrix')\n",
    "plt.xlabel('PCA Component 1')\n",
    "plt.ylabel('PCA Component 2')\n",
    "plt.show()\n"
   ]
  },
  {
   "cell_type": "code",
   "execution_count": 31,
   "id": "01dcaaa1",
   "metadata": {},
   "outputs": [
    {
     "data": {
      "image/png": "[encoded data removed]",
      "text/plain": [
       "<Figure size 1000x700 with 1 Axes>"
      ]
     },
     "metadata": {},
     "output_type": "display_data"
    }
   ],
   "source": [
    "dbscan = DBSCAN(eps=0.3, min_samples=5, metric='cosine')\n",
    "clusters = dbscan.fit_predict(tfidf_matrix)\n",
    "\n",
    "# Step 4: Visualize the clusters\n",
    "# Reduce dimensions for visualization using PCA\n",
    "pca = PCA(n_components=8)\n",
    "reduced_tfidf_matrix = pca.fit_transform(tfidf_matrix.toarray())\n",
    "\n",
    "# Plot the clusters\n",
    "plt.figure(figsize=(10, 7))\n",
    "unique_labels = set(clusters)\n",
    "colors = [plt.cm.Spectral(each) for each in np.linspace(0, 1, len(unique_labels))]\n",
    "\n",
    "for k, col in zip(unique_labels, colors):\n",
    "    if k == -1:\n",
    "        # Black used for noise.\n",
    "        col = [0, 0, 0, 1]\n",
    "\n",
    "    class_member_mask = (clusters == k)\n",
    "\n",
    "    xy = reduced_tfidf_matrix[class_member_mask]\n",
    "    plt.plot(xy[:, 0], xy[:, 1], 'o', markerfacecolor=tuple(col),\n",
    "             markeredgecolor='k', markersize=14)\n",
    "\n",
    "plt.title('DBSCAN Clustering of TF-IDF Matrix')\n",
    "plt.xlabel('PCA Component 1')\n",
    "plt.ylabel('PCA Component 2')\n",
    "\n",
    "# Add color legend\n",
    "for k, col in zip(unique_labels, colors):\n",
    "    if k == -1:\n",
    "        # Black used for noise.\n",
    "        col = [0, 0, 0, 1]\n",
    "        label = 'Noise'\n",
    "    else:\n",
    "        label = f'Cluster {k}'\n",
    "    \n",
    "    plt.plot([], [], 'o', markerfacecolor=tuple(col),\n",
    "             markeredgecolor='k', markersize=14, label=label)\n",
    "\n",
    "plt.legend()\n",
    "\n",
    "plt.show()\n"
   ]
  },
  {
   "cell_type": "code",
   "execution_count": null,
   "id": "14fa1222",
   "metadata": {},
   "outputs": [],
   "source": []
  },
  {
   "cell_type": "code",
   "execution_count": null,
   "id": "6b53443f",
   "metadata": {
    "vscode": {
     "languageId": "cmake"
    }
   },
   "outputs": [
    {
     "ename": "NameError",
     "evalue": "name 'ground_truth_labels' is not defined",
     "output_type": "error",
     "traceback": [
      "\u001b[1;31m---------------------------------------------------------------------------\u001b[0m",
      "\u001b[1;31mNameError\u001b[0m                                 Traceback (most recent call last)",
      "Cell \u001b[1;32mIn[34], line 13\u001b[0m\n\u001b[0;32m     10\u001b[0m silhouette_score \u001b[38;5;241m=\u001b[39m silhouette_score(tfidf_matrix, cluster_labels)\n\u001b[0;32m     12\u001b[0m \u001b[38;5;66;03m# Calculate the Adjusted Rand Index\u001b[39;00m\n\u001b[1;32m---> 13\u001b[0m adjusted_rand_index \u001b[38;5;241m=\u001b[39m adjusted_rand_score(\u001b[43mground_truth_labels\u001b[49m, cluster_labels)\n\u001b[0;32m     15\u001b[0m \u001b[38;5;28mprint\u001b[39m(\u001b[38;5;124mf\u001b[39m\u001b[38;5;124m\"\u001b[39m\u001b[38;5;124mSilhouette Coefficient: \u001b[39m\u001b[38;5;132;01m{\u001b[39;00msilhouette_score\u001b[38;5;132;01m:\u001b[39;00m\u001b[38;5;124m.2f\u001b[39m\u001b[38;5;132;01m}\u001b[39;00m\u001b[38;5;124m\"\u001b[39m)\n\u001b[0;32m     16\u001b[0m \u001b[38;5;28mprint\u001b[39m(\u001b[38;5;124mf\u001b[39m\u001b[38;5;124m\"\u001b[39m\u001b[38;5;124mAdjusted Rand Index: \u001b[39m\u001b[38;5;132;01m{\u001b[39;00madjusted_rand_index\u001b[38;5;132;01m:\u001b[39;00m\u001b[38;5;124m.2f\u001b[39m\u001b[38;5;132;01m}\u001b[39;00m\u001b[38;5;124m\"\u001b[39m)\n",
      "\u001b[1;31mNameError\u001b[0m: name 'ground_truth_labels' is not defined"
     ]
    }
   ],
   "source": [
    "from sklearn.metrics import silhouette_score, adjusted_rand_score\n",
    "\n",
    "# Fit the tfidf_matrix to the KMeans algorithm\n",
    "kmeans.fit(tfidf_matrix)\n",
    "\n",
    "# Get the cluster labels for each data point\n",
    "cluster_labels = kmeans.labels_\n",
    "\n",
    "# Calculate the Silhouette Coefficient\n",
    "silhouette_score = silhouette_score(tfidf_matrix, cluster_labels)\n",
    "\n",
    "# Calculate the Adjusted Rand Index\n",
    "adjusted_rand_index = adjusted_rand_score(ground_truth_labels, cluster_labels)\n",
    "\n",
    "print(f\"Silhouette Coefficient: {silhouette_score:.2f}\")\n",
    "print(f\"Adjusted Rand Index: {adjusted_rand_index:.2f}\")\n"
   ]
  },
  {
   "cell_type": "code",
   "execution_count": null,
   "id": "03079f15",
   "metadata": {},
   "outputs": [],
   "source": [
    "# !pip install matplotlib\n"
   ]
  },
  {
   "cell_type": "code",
   "execution_count": 30,
   "id": "27321c62",
   "metadata": {},
   "outputs": [
    {
     "ename": "NameError",
     "evalue": "name 'X' is not defined",
     "output_type": "error",
     "traceback": [
      "\u001b[1;31m---------------------------------------------------------------------------\u001b[0m",
      "\u001b[1;31mNameError\u001b[0m                                 Traceback (most recent call last)",
      "Cell \u001b[1;32mIn[30], line 13\u001b[0m\n\u001b[0;32m      5\u001b[0m \u001b[38;5;28;01mimport\u001b[39;00m \u001b[38;5;21;01mmatplotlib\u001b[39;00m\u001b[38;5;21;01m.\u001b[39;00m\u001b[38;5;21;01mpyplot\u001b[39;00m \u001b[38;5;28;01mas\u001b[39;00m \u001b[38;5;21;01mplt\u001b[39;00m\n\u001b[0;32m      7\u001b[0m \u001b[38;5;66;03m# X, y_true = make_blobs(n_samples=500, centers=4,\u001b[39;00m\n\u001b[0;32m      8\u001b[0m \u001b[38;5;66;03m#                        cluster_std=0.50, random_state=0)\u001b[39;00m\n\u001b[1;32m---> 13\u001b[0m db \u001b[38;5;241m=\u001b[39m DBSCAN(eps\u001b[38;5;241m=\u001b[39m\u001b[38;5;241m0.3\u001b[39m, min_samples\u001b[38;5;241m=\u001b[39m\u001b[38;5;241m5\u001b[39m)\u001b[38;5;241m.\u001b[39mfit(\u001b[43mX\u001b[49m)\n\u001b[0;32m     14\u001b[0m core_samples_mask \u001b[38;5;241m=\u001b[39m np\u001b[38;5;241m.\u001b[39mzeros_like(db\u001b[38;5;241m.\u001b[39mlabels_, dtype\u001b[38;5;241m=\u001b[39m\u001b[38;5;28mbool\u001b[39m)\n\u001b[0;32m     15\u001b[0m core_samples_mask[db\u001b[38;5;241m.\u001b[39mcore_sample_indices_] \u001b[38;5;241m=\u001b[39m \u001b[38;5;28;01mTrue\u001b[39;00m\n",
      "\u001b[1;31mNameError\u001b[0m: name 'X' is not defined"
     ]
    }
   ],
   "source": [
    "from sklearn.cluster import DBSCAN\n",
    "from sklearn import metrics\n",
    "from sklearn.datasets import make_blobs\n",
    "import numpy as np\n",
    "import matplotlib.pyplot as plt\n",
    "\n",
    "# X, y_true = make_blobs(n_samples=500, centers=4,\n",
    "#                        cluster_std=0.50, random_state=0)\n",
    "\n",
    "\n",
    "\n",
    "\n",
    "db = DBSCAN(eps=0.3, min_samples=5).fit(X)\n",
    "core_samples_mask = np.zeros_like(db.labels_, dtype=bool)\n",
    "core_samples_mask[db.core_sample_indices_] = True\n",
    "labels = db.labels_\n",
    " \n",
    "# Number of clusters in labels, ignoring noise if present.\n",
    "n_clusters_ = len(set(labels)) - (1 if -1 in labels else 0)\n",
    " \n",
    "# Plot result\n",
    " \n",
    "# Black removed and is used for noise instead.\n",
    "unique_labels = set(labels)\n",
    "colors = ['y', 'b', 'g', 'r']\n",
    "print(colors)\n",
    "for k, col in zip(unique_labels, colors):\n",
    "    if k == -1:\n",
    "        # Black used for noise.\n",
    "        col = 'k'\n",
    " \n",
    "    class_member_mask = (labels == k)\n",
    " \n",
    "    xy = X[class_member_mask & core_samples_mask]\n",
    "    plt.plot(xy[:, 0], xy[:, 1], 'o', markerfacecolor=col,\n",
    "             markeredgecolor='k',\n",
    "             markersize=6)\n",
    " \n",
    "    xy = X[class_member_mask & ~core_samples_mask]\n",
    "    plt.plot(xy[:, 0], xy[:, 1], 'o', markerfacecolor=col,\n",
    "             markeredgecolor='k',\n",
    "             markersize=6)\n",
    " \n",
    "plt.title('number of clusters: %d' % n_clusters_)\n",
    "plt.show()\n"
   ]
  },
  {
   "cell_type": "code",
   "execution_count": null,
   "id": "e6bb2c9f",
   "metadata": {},
   "outputs": [],
   "source": [
    "\n",
    "# evaluation metrics\n",
    "sc = metrics.silhouette_score(X, labels)\n",
    "print(\"Silhouette Coefficient:%0.2f\" % sc)\n",
    "ari = adjusted_rand_score(y_true, labels)\n",
    "print(\"Adjusted Rand Index: %0.2f\" % ari)\n"
   ]
  },
  {
   "cell_type": "markdown",
   "id": "b7c3cd01",
   "metadata": {},
   "source": [
    "## Data retrive"
   ]
  },
  {
   "cell_type": "code",
   "execution_count": null,
   "id": "b313775a",
   "metadata": {},
   "outputs": [],
   "source": [
    "def cleanhtml(raw_html):\n",
    "        CLEANR = re.compile('<.*?>')\n",
    "        cleantext = re.sub(CLEANR, '', raw_html)\n",
    "        return cleantext\n"
   ]
  },
  {
   "cell_type": "code",
   "execution_count": null,
   "id": "e4dd79d1",
   "metadata": {},
   "outputs": [],
   "source": [
    "def parse_magento_data(data:List[dict])->list:\n",
    "        result = []\n",
    "        try:\n",
    "            for item in data:\n",
    "                    product_info = {\"id\":\"\", \"name\":\"\", \"description\":\"\", \"url\":\"\", \"image\":\"\", \"stock\":\"\", \"product_type\":\"\", \"price\":\"\", \"weight\":\"\", \"minimum_quantity_sold\":0}\n",
    "                    product_info['id'] = item.find('id').text\n",
    "                    product_info['name'] = item.find('title').text\n",
    "                    product_info['description'] = cleanhtml(html.unescape(item.find('description').text))\n",
    "                    product_info['url'] = item.find('link').text\n",
    "                    product_info['image'] = item.find('image_link').text\n",
    "                    product_info['stock'] = item.find('availability').text\n",
    "                    product_info['product_type'] = item.find('product_type').text\n",
    "                    product_info['minimum_quantity_sold'] = float(item.find('measurement_sold_in_size').text)\n",
    "                    if product_info['product_type'] == 'configurable':\n",
    "                        match = re.match(r'([A-Za-z]+)([0-9.]+) - ([A-Za-z]+)([0-9.]+)', item.find('price_range').text)\n",
    "                        if match:\n",
    "                            currency = match.group(1)\n",
    "                            amount_start = \"{:.2f}\".format(float(match.group(2)))\n",
    "                            amount_end = \"{:.2f}\".format(float(match.group(4)))\n",
    "                            product_info['price'] = f'{currency}{amount_start} - {currency}{amount_end}'\n",
    "                        else:\n",
    "                            new_match = re.match(r'([A-Za-z]+)([0-9.]+)', item.find('price_range').text)\n",
    "                            if new_match:\n",
    "                                currency = new_match.group(1)\n",
    "                                amount = \"{:.2f}\".format(float(new_match.group(2)))\n",
    "                                product_info['price'] = f'{currency}{amount}'\n",
    "                    else:\n",
    "                        # Extracting currency and numerical part from price\n",
    "                        price_text = item.find('price').text\n",
    "                        currency = ''.join(c for c in price_text if not c.isdigit() and c not in ['.', ',']).strip()\n",
    "                        numerical_price = float(''.join(c for c in price_text if c.isdigit() or c == '.'))\n",
    "                        # Calculating the final price\n",
    "                        calculated_price = numerical_price\n",
    "                        product_info['price'] = f'{currency}{calculated_price:.2f}'\n",
    "\n",
    "                    product_info['weight'] = item.find('shipping_weight').text if item.find('shipping_weight') else \"\"\n",
    "                    result.append(product_info)\n",
    "            return result\n",
    "        except Exception as e:\n",
    "            print(e)\n",
    "            return result\n"
   ]
  },
  {
   "cell_type": "markdown",
   "id": "8fd83eb6",
   "metadata": {},
   "source": [
    "## Scrape the data"
   ]
  },
  {
   "cell_type": "code",
   "execution_count": null,
   "id": "747ff6c1",
   "metadata": {},
   "outputs": [],
   "source": [
    "result = []\n",
    "responses = []\n",
    "            \n",
    "response = requests.get(\"https://hookandloop.com/feeds/elx_product_feed.xml\")\n",
    "response.raise_for_status()\n",
    "\n",
    "content = response.content\n",
    "\n",
    "\n",
    "root = ET.fromstring(content)\n",
    "items = root.findall('.//item')\n",
    "\n",
    "json_result = parse_magento_data(items)\n",
    "\n",
    "file_path = \"json_data/h&l.json\"\n",
    "\n",
    "if not os.path.exists(file_path):\n",
    "    with open(file_path, 'w') as f:\n",
    "        json.dump(json_result[:1000], f)\n"
   ]
  },
  {
   "cell_type": "code",
   "execution_count": null,
   "id": "d34d61f7",
   "metadata": {},
   "outputs": [],
   "source": [
    "\n",
    "with open(file_path, 'r') as f:\n",
    "    json_result = json.load(f)\n"
   ]
  },
  {
   "cell_type": "code",
   "execution_count": null,
   "id": "6fda1ca4",
   "metadata": {},
   "outputs": [],
   "source": [
    "len(json_result)\n"
   ]
  },
  {
   "cell_type": "markdown",
   "id": "602215bd",
   "metadata": {},
   "source": [
    "## Merge name and description"
   ]
  },
  {
   "cell_type": "code",
   "execution_count": null,
   "id": "630c0322",
   "metadata": {},
   "outputs": [],
   "source": [
    "# merged_array = [f\"{product['name']} {''.join([word if word.isdigit() else '' for word in product['description'].split()])}\" for product in json_result]\n",
    "merged_array = [f\"{product['name']} {product['description'].replace(' ', '')}\" for product in json_result]\n",
    "# merged_array = [f\"{product['name']} {product['description']}\" for product in json_result]\n"
   ]
  },
  {
   "cell_type": "code",
   "execution_count": null,
   "id": "5d05859b",
   "metadata": {},
   "outputs": [],
   "source": [
    "merged_array[2]\n"
   ]
  },
  {
   "cell_type": "code",
   "execution_count": null,
   "id": "f1f19d56",
   "metadata": {},
   "outputs": [],
   "source": [
    "def clean_text(text):\n",
    "    # Merge numerical values with characters\n",
    "    text = re.sub(r'(\\d+)\\s+([a-zA-Z]+)', r'\\1\\2', text)\n",
    "    \n",
    "    # Remove special characters and digits\n",
    "    text = re.sub(r'[^a-zA-Z\\s]', ' ', text)\n",
    "    # Convert to lowercase\n",
    "    text = text.lower()\n",
    "    # Remove extra whitespace\n",
    "    text = re.sub(r'\\s+', ' ', text).strip()\n",
    "    return text\n"
   ]
  },
  {
   "cell_type": "code",
   "execution_count": null,
   "id": "00cf834a",
   "metadata": {},
   "outputs": [],
   "source": [
    "\n",
    "cleaned_merged_array = [clean_text(text) for text in merged_array]\n"
   ]
  },
  {
   "cell_type": "code",
   "execution_count": null,
   "id": "9b5a48d7",
   "metadata": {},
   "outputs": [],
   "source": [
    "import re\n",
    "\n",
    "merged_array_with_numerical = []\n",
    "\n",
    "for text in merged_array:\n",
    "    match = re.search(r'(\\d+)', text)\n",
    "    if match:\n",
    "        numerical_value = match.group(1)\n",
    "        text_before = text[:match.start()].split()[-1] if text[:match.start()].split() else \"\"\n",
    "        text_after = text[match.end():].split()[0] if text[match.end():].split() else \"\"\n",
    "        merged_text = f\"{text_before} {numerical_value} {text_after}\"\n",
    "        merged_array_with_numerical.append(merged_text)\n",
    "\n",
    "merged_array_with_numerical[:2]\n"
   ]
  },
  {
   "cell_type": "code",
   "execution_count": null,
   "id": "f3fe854e",
   "metadata": {},
   "outputs": [],
   "source": [
    "merged_array_with_numerical[0]\n"
   ]
  },
  {
   "cell_type": "code",
   "execution_count": null,
   "id": "3e8de780",
   "metadata": {},
   "outputs": [],
   "source": [
    "merged_array[0:4]\n"
   ]
  },
  {
   "cell_type": "code",
   "execution_count": null,
   "id": "6d444e2e",
   "metadata": {},
   "outputs": [],
   "source": [
    "merged_array[1]\n"
   ]
  },
  {
   "cell_type": "markdown",
   "id": "5503c038",
   "metadata": {},
   "source": [
    "## Tokenize data with NLTK"
   ]
  },
  {
   "cell_type": "code",
   "execution_count": null,
   "id": "74311523",
   "metadata": {},
   "outputs": [],
   "source": [
    "nested_array = [nltk.word_tokenize(data) for data in merged_array_with_numerical]\n",
    "nested_array[1]\n"
   ]
  },
  {
   "cell_type": "code",
   "execution_count": null,
   "id": "4e2f056e",
   "metadata": {},
   "outputs": [],
   "source": [
    "import string\n",
    "\n",
    "stop_words = set(stopwords.words('english'))\n",
    "\n",
    "cleaned_data = []\n",
    "\n",
    "for data in nested_array:\n",
    "    cleaned_sentence = [word for word in data if word.lower() not in stop_words and word != '']\n",
    "    cleaned_sentence = [word.translate(str.maketrans('', '', string.punctuation)) for word in cleaned_sentence if word != '']\n",
    "    cleaned_data.append([word for word in cleaned_sentence if word != ''])\n"
   ]
  },
  {
   "cell_type": "code",
   "execution_count": null,
   "id": "b067d31d",
   "metadata": {},
   "outputs": [],
   "source": [
    "cleaned_data[1]\n"
   ]
  },
  {
   "cell_type": "code",
   "execution_count": null,
   "id": "95368c18",
   "metadata": {},
   "outputs": [],
   "source": [
    "len(cleaned_data)\n"
   ]
  },
  {
   "cell_type": "code",
   "execution_count": null,
   "id": "2935f845",
   "metadata": {},
   "outputs": [],
   "source": [
    "from sklearn.feature_extraction.text import TfidfVectorizer\n",
    "\n",
    "# Convert the cleaned data into a list of strings\n",
    "cleaned_data_strings = [' '.join(data) for data in cleaned_data]\n",
    "\n",
    "# Create an instance of TfidfVectorizer\n",
    "vectorizer = TfidfVectorizer()\n",
    "\n",
    "# Fit and transform the cleaned data\n",
    "tfidf_matrix = vectorizer.fit_transform(cleaned_data_strings)\n",
    "\n",
    "# Get the feature names (tokens)\n",
    "feature_names = vectorizer.get_feature_names_out()\n",
    "\n",
    "# Print the first 10 feature names\n",
    "print(feature_names[:10])\n",
    "\n",
    "# Print the shape of the TF-IDF matrix\n",
    "print(tfidf_matrix.shape)\n"
   ]
  },
  {
   "cell_type": "code",
   "execution_count": null,
   "id": "bafdd8e5",
   "metadata": {},
   "outputs": [],
   "source": [
    "def clean_text(text):\n",
    "    # Merge numerical values with characters\n",
    "    text = re.sub(r'(\\d+)\\s+([a-zA-Z]+)', r'\\1\\2', text)\n",
    "    \n",
    "    # Remove special characters and digits\n",
    "    text = re.sub(r'[^a-zA-Z\\s]', ' ', text)\n",
    "    # Convert to lowercase\n",
    "    text = text.lower()\n",
    "    # Remove extra whitespace\n",
    "    text = re.sub(r'\\s+', ' ', text).strip()\n",
    "    return text\n"
   ]
  },
  {
   "cell_type": "code",
   "execution_count": null,
   "id": "6b883df5",
   "metadata": {},
   "outputs": [],
   "source": [
    "import json\n",
    "import re\n",
    "from nltk.tokenize import word_tokenize\n",
    "from nltk.corpus import stopwords\n",
    "from nltk.stem import WordNetLemmatizer\n",
    "\n",
    "# Ensure you have the necessary NLTK data\n",
    "import nltk\n",
    "nltk.download('punkt')\n",
    "nltk.download('stopwords')\n",
    "nltk.download('wordnet')\n",
    "\n",
    "def load_and_parse_json(file_path):\n",
    "    with open(file_path, 'r') as file:\n",
    "        data = json.load(file)\n",
    "    return data\n",
    "\n",
    "def clean_text(text):\n",
    "    # Merge numerical values with characters\n",
    "    text = re.sub(r'(\\d+)\\s+([a-zA-Z]+)', r'\\1\\2', text)\n",
    "    \n",
    "    # Remove special characters and digits\n",
    "    text = re.sub(r'[^a-zA-Z\\s]', ' ', text)\n",
    "    # Convert to lowercase\n",
    "    text = text.lower()\n",
    "    # Remove extra whitespace\n",
    "    text = re.sub(r'\\s+', ' ', text).strip()\n",
    "    return text\n",
    "\n",
    "def tokenize_and_lemmatize(text):\n",
    "    stop_words = set(stopwords.words('english'))\n",
    "    lemmatizer = WordNetLemmatizer()\n",
    "    \n",
    "    tokens = word_tokenize(text)\n",
    "    tokens = [lemmatizer.lemmatize(token) for token in tokens if token not in stop_words and len(token) > 2]\n",
    "    return tokens\n",
    "\n",
    "def preprocess_data(data):\n",
    "    processed_data = []\n",
    "    \n",
    "    for item in data:\n",
    "        # Merge name and description\n",
    "        combined_text = f\"{item['name']} {item['description']}\"\n",
    "        \n",
    "        # Clean and tokenize combined text\n",
    "        cleaned_text = clean_text(combined_text)\n",
    "        tokens = tokenize_and_lemmatize(cleaned_text)\n",
    "        \n",
    "        processed_data.append(tokens)\n",
    "    \n",
    "    return processed_data\n",
    "\n",
    "# Main execution\n",
    "file_path = 'json_data/h&l.json'\n",
    "raw_data = load_and_parse_json(file_path)\n",
    "processed_data = preprocess_data(raw_data)\n",
    "\n",
    "# Print a sample of processed data\n",
    "print(json.dumps(processed_data[0], indent=2))\n",
    "\n",
    "# Save the processed data to a file\n",
    "with open('json_data/h&l_pros.json', 'w') as f:\n",
    "    json.dump(processed_data, f, indent=2)\n",
    "# Print some statistics\n",
    "total_products = len(processed_data)\n",
    "total_tokens = sum(len(tokens) for tokens in processed_data)\n",
    "avg_tokens = total_tokens / total_products\n",
    "\n",
    "print(f\"\\nTotal products processed: {total_products}\")\n",
    "print(f\"Total tokens: {total_tokens}\")\n",
    "print(f\"Average tokens per product: {avg_tokens:.2f}\")\n"
   ]
  },
  {
   "cell_type": "code",
   "execution_count": null,
   "id": "266c7be7",
   "metadata": {},
   "outputs": [],
   "source": []
  }
 ],
 "metadata": {
  "kernelspec": {
   "display_name": "venv",
   "language": "python",
   "name": "python3"
  },
  "language_info": {
   "codemirror_mode": {
    "name": "ipython",
    "version": 3
   },
   "file_extension": ".py",
   "mimetype": "text/x-python",
   "name": "python",
   "nbconvert_exporter": "python",
   "pygments_lexer": "ipython3",
   "version": "3.11.3"
  }
 },
 "nbformat": 4,
 "nbformat_minor": 5
}
